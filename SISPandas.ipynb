{
 "cells": [
  {
   "cell_type": "code",
   "execution_count": 1,
   "id": "58b11fe9-eca7-4ce2-b5ca-0973c9c07393",
   "metadata": {},
   "outputs": [
    {
     "name": "stdout",
     "output_type": "stream",
     "text": [
      "Requirement already satisfied: requests in c:\\users\\user\\appdata\\roaming\\python\\python312\\site-packages (2.32.5)\n",
      "Requirement already satisfied: beautifulsoup4 in c:\\users\\user\\appdata\\roaming\\python\\python312\\site-packages (4.13.5)\n",
      "Requirement already satisfied: lxml in c:\\python312\\lib\\site-packages (6.0.2)\n",
      "Requirement already satisfied: pandas in c:\\python312\\lib\\site-packages (2.3.2)\n",
      "Requirement already satisfied: charset_normalizer<4,>=2 in c:\\users\\user\\appdata\\roaming\\python\\python312\\site-packages (from requests) (3.4.3)\n",
      "Requirement already satisfied: idna<4,>=2.5 in c:\\users\\user\\appdata\\roaming\\python\\python312\\site-packages (from requests) (3.10)\n",
      "Requirement already satisfied: urllib3<3,>=1.21.1 in c:\\python312\\lib\\site-packages (from requests) (2.5.0)\n",
      "Requirement already satisfied: certifi>=2017.4.17 in c:\\python312\\lib\\site-packages (from requests) (2025.1.31)\n",
      "Requirement already satisfied: soupsieve>1.2 in c:\\python312\\lib\\site-packages (from beautifulsoup4) (2.8)\n",
      "Requirement already satisfied: typing-extensions>=4.0.0 in c:\\python312\\lib\\site-packages (from beautifulsoup4) (4.15.0)\n",
      "Requirement already satisfied: numpy>=1.26.0 in c:\\python312\\lib\\site-packages (from pandas) (2.1.1)\n",
      "Requirement already satisfied: python-dateutil>=2.8.2 in c:\\python312\\lib\\site-packages (from pandas) (2.9.0.post0)\n",
      "Requirement already satisfied: pytz>=2020.1 in c:\\python312\\lib\\site-packages (from pandas) (2025.2)\n",
      "Requirement already satisfied: tzdata>=2022.7 in c:\\python312\\lib\\site-packages (from pandas) (2024.1)\n",
      "Requirement already satisfied: six>=1.5 in c:\\python312\\lib\\site-packages (from python-dateutil>=2.8.2->pandas) (1.16.0)\n"
     ]
    }
   ],
   "source": [
    "!pip install requests beautifulsoup4 lxml pandas"
   ]
  },
  {
   "cell_type": "code",
   "execution_count": 3,
   "id": "302fb3cf-b011-48a6-be27-a1796028a802",
   "metadata": {},
   "outputs": [
    {
     "name": "stdout",
     "output_type": "stream",
     "text": [
      "Status: 200\n"
     ]
    }
   ],
   "source": [
    "import requests\n",
    "from bs4 import BeautifulSoup\n",
    "import pandas as pd\n",
    "\n",
    "url = \"https://ru.wikipedia.org/wiki/250_%D0%BB%D1%83%D1%87%D1%88%D0%B8%D1%85_%D1%84%D0%B8%D0%BB%D1%8C%D0%BC%D0%BE%D0%B2_%D0%BF%D0%BE_%D0%B2%D0%B5%D1%80%D1%81%D0%B8%D0%B8_IMDb\"\n",
    "headers = {\"User-Agent\": \"Mozilla/5.0 (Windows NT 10.0; Win64; x64) AppleWebKit/537.36 (KHTML, like Gecko) Chrome/141.0.0.0 Safari/537.36\"}\n",
    "response = requests.get(url,headers = headers)\n",
    "print(\"Status:\", response.status_code)"
   ]
  },
  {
   "cell_type": "code",
   "execution_count": 4,
   "id": "43088408-d7e7-49bf-9a8c-8b5851756f8a",
   "metadata": {},
   "outputs": [],
   "source": [
    "soup = BeautifulSoup(response.text, \"html.parser\")"
   ]
  },
  {
   "cell_type": "code",
   "execution_count": 5,
   "id": "f59342d7-f2f5-4a77-b6f2-63161553624c",
   "metadata": {},
   "outputs": [],
   "source": [
    "table = soup.find(\"table\",{\"class\": \"sortable\"})"
   ]
  },
  {
   "cell_type": "code",
   "execution_count": 6,
   "id": "d1d8c58b-1233-4795-8cc5-90efb3e300c7",
   "metadata": {},
   "outputs": [
    {
     "name": "stdout",
     "output_type": "stream",
     "text": [
      "['Место', 'Название фильма', 'Год', 'Страна(-ы)', 'Режиссёр', 'Жанры по версии IMDb']\n"
     ]
    }
   ],
   "source": [
    "headers = [th.get_text(strip=True) for th in table.find_all(\"th\")]\n",
    "print(headers)"
   ]
  },
  {
   "cell_type": "code",
   "execution_count": 7,
   "id": "92724aaa-3ba5-4942-bc45-1aea294426b2",
   "metadata": {},
   "outputs": [],
   "source": [
    "data = []\n",
    "for row in table.find(\"tbody\").find_all(\"tr\"):\n",
    "    cells = [td.get_text(strip=True) for td in row.find_all(\"td\")]\n",
    "    data.append(cells)\n",
    "    "
   ]
  },
  {
   "cell_type": "code",
   "execution_count": 11,
   "id": "e6a49c81-19d5-41fe-a6da-d7fdf68bbf95",
   "metadata": {},
   "outputs": [
    {
     "data": {
      "text/html": [
       "<div>\n",
       "<style scoped>\n",
       "    .dataframe tbody tr th:only-of-type {\n",
       "        vertical-align: middle;\n",
       "    }\n",
       "\n",
       "    .dataframe tbody tr th {\n",
       "        vertical-align: top;\n",
       "    }\n",
       "\n",
       "    .dataframe thead th {\n",
       "        text-align: right;\n",
       "    }\n",
       "</style>\n",
       "<table border=\"1\" class=\"dataframe\">\n",
       "  <thead>\n",
       "    <tr style=\"text-align: right;\">\n",
       "      <th></th>\n",
       "      <th>Место</th>\n",
       "      <th>Название фильма</th>\n",
       "      <th>Год</th>\n",
       "      <th>Страна(-ы)</th>\n",
       "      <th>Режиссёр</th>\n",
       "      <th>Жанры по версии IMDb</th>\n",
       "    </tr>\n",
       "  </thead>\n",
       "  <tbody>\n",
       "    <tr>\n",
       "      <th>0</th>\n",
       "      <td>1</td>\n",
       "      <td>Побег из Шоушенка</td>\n",
       "      <td>1994</td>\n",
       "      <td>США</td>\n",
       "      <td>Фрэнк Дарабонт</td>\n",
       "      <td>эпический фильм,историческая драма,тюремная др...</td>\n",
       "    </tr>\n",
       "    <tr>\n",
       "      <th>1</th>\n",
       "      <td>2</td>\n",
       "      <td>Крёстный отец</td>\n",
       "      <td>1972</td>\n",
       "      <td>США</td>\n",
       "      <td>Фрэнсис Форд Коппола</td>\n",
       "      <td>эпический фильм,гангстерский фильм,фильм-траге...</td>\n",
       "    </tr>\n",
       "    <tr>\n",
       "      <th>2</th>\n",
       "      <td>3</td>\n",
       "      <td>Тёмный рыцарь</td>\n",
       "      <td>2008</td>\n",
       "      <td>СШАВеликобритания</td>\n",
       "      <td>Кристофер Нолан</td>\n",
       "      <td>эпический боевик,эпический фильм,супергеройски...</td>\n",
       "    </tr>\n",
       "    <tr>\n",
       "      <th>3</th>\n",
       "      <td>4</td>\n",
       "      <td>Крёстный отец 2</td>\n",
       "      <td>1974</td>\n",
       "      <td>США</td>\n",
       "      <td>Фрэнсис Форд Коппола</td>\n",
       "      <td>эпический фильм,гангстерский фильм,фильм-траге...</td>\n",
       "    </tr>\n",
       "    <tr>\n",
       "      <th>4</th>\n",
       "      <td>5</td>\n",
       "      <td>12 разгневанных мужчин</td>\n",
       "      <td>1957</td>\n",
       "      <td>США</td>\n",
       "      <td>Сидни Люмет</td>\n",
       "      <td>юридическая драма,психологическая драма,детект...</td>\n",
       "    </tr>\n",
       "  </tbody>\n",
       "</table>\n",
       "</div>"
      ],
      "text/plain": [
       "  Место         Название фильма   Год         Страна(-ы)  \\\n",
       "0     1       Побег из Шоушенка  1994                США   \n",
       "1     2           Крёстный отец  1972                США   \n",
       "2     3           Тёмный рыцарь  2008  СШАВеликобритания   \n",
       "3     4         Крёстный отец 2  1974                США   \n",
       "4     5  12 разгневанных мужчин  1957                США   \n",
       "\n",
       "               Режиссёр                               Жанры по версии IMDb  \n",
       "0        Фрэнк Дарабонт  эпический фильм,историческая драма,тюремная др...  \n",
       "1  Фрэнсис Форд Коппола  эпический фильм,гангстерский фильм,фильм-траге...  \n",
       "2       Кристофер Нолан  эпический боевик,эпический фильм,супергеройски...  \n",
       "3  Фрэнсис Форд Коппола  эпический фильм,гангстерский фильм,фильм-траге...  \n",
       "4           Сидни Люмет  юридическая драма,психологическая драма,детект...  "
      ]
     },
     "execution_count": 11,
     "metadata": {},
     "output_type": "execute_result"
    }
   ],
   "source": [
    "df = pd.DataFrame(data[1:],columns = headers)\n",
    "df.head()"
   ]
  },
  {
   "cell_type": "code",
   "execution_count": null,
   "id": "5206f519-dd6e-4081-ad41-87cc4798d778",
   "metadata": {},
   "outputs": [],
   "source": []
  }
 ],
 "metadata": {
  "kernelspec": {
   "display_name": "Python 3 (ipykernel)",
   "language": "python",
   "name": "python3"
  },
  "language_info": {
   "codemirror_mode": {
    "name": "ipython",
    "version": 3
   },
   "file_extension": ".py",
   "mimetype": "text/x-python",
   "name": "python",
   "nbconvert_exporter": "python",
   "pygments_lexer": "ipython3",
   "version": "3.12.2"
  }
 },
 "nbformat": 4,
 "nbformat_minor": 5
}
